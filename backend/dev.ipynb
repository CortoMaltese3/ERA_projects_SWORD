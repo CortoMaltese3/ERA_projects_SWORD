{
 "cells": [
  {
   "cell_type": "code",
   "execution_count": null,
   "metadata": {},
   "outputs": [],
   "source": [
    "# Setup scenario\n",
    "from pathlib import Path\n",
    "\n",
    "import geopandas as gpd\n",
    "import numpy as np\n",
    "import pandas as pd\n",
    "\n",
    "from climada.engine import CostBenefit, Impact, ImpactCalc\n",
    "from climada.engine.cost_benefit import risk_aai_agg\n",
    "from climada.entity import DiscRates, Entity, Exposures, LitPop\n",
    "from climada.entity.impact_funcs import ImpactFunc, ImpactFuncSet, ImpfTropCyclone\n",
    "from climada.entity.impact_funcs.storm_europe import ImpfStormEurope\n",
    "from climada.entity.impact_funcs.trop_cyclone import ImpfSetTropCyclone\n",
    "from climada.entity.measures import Measure, MeasureSet\n",
    "from climada.hazard import Hazard\n",
    "from climada.util.api_client import Client\n",
    "\n",
    "import handlers\n",
    "from handlers import calculate_impact, calculate_impact_function_set\n",
    "from logger_config import LoggerConfig\n",
    "\n",
    "logger = LoggerConfig(logger_types=[\"file\"])\n",
    "\n",
    "\n",
    "notebook_dir = %pwd\n",
    "\n",
    "# Go up one directory\n",
    "BASE_DIR = Path(notebook_dir).parent\n",
    "\n",
    "# Define the paths for exposures and hazards\n",
    "DATA_DIR = BASE_DIR / \"data\"\n",
    "EXPOSURES_DIR = BASE_DIR / \"data\" / \"exposures\"\n",
    "HAZARDS_DIR = BASE_DIR / \"data\" / \"hazards\"\n",
    "REQUIREMENTS_DIR = BASE_DIR / \"requirements\"\n",
    "GADM41_EGY_PATH = REQUIREMENTS_DIR / \"gadm41_EGY.gpkg\"\n",
    "GADM41_THA_PATH = REQUIREMENTS_DIR / \"gadm41_THA.gpkg\"\n",
    "DATA_TEMP_DIR = DATA_DIR / \"temp\" \n",
    "ENTITIES_DIR = BASE_DIR / \"data\" / \"entities\"\n",
    "\n",
    "# Available Exposure data types in CLIMADA API for Egypt/Thailand: ['litpop']\n",
    "# Available Hazard data types in CLIMADA API for Egypt/Thailand: ['river_flood', 'wildfire', 'earthquake', 'flood', 'tropical_cyclone']\n",
    "# Available climate scenarios for hazard type river_flood/tropical_c in country Egypt/Thailand: ['rcp26', 'historical', 'rcp60', 'rcp85']\n",
    "# Available time horizons for hazard type river_flood in country Egypt: ['2030_2050', '1980_2000', '2070_2090', '2010_2030', '2050_2070']\n",
    "\n",
    "country_name = \"Egypt\"\n",
    "exposure_type = \"litpop\"        # Available exposure types for Egypt/Thailand: ['litpop']\n",
    "hazard_type = \"river_flood\"     # Available hazard types for Egypt/Thailand: ['river_flood', 'wildfire', 'earthquake', 'flood', 'tropical_cyclone']\n",
    "scenario = \"rcp26\" # Available scenarios for Egypt/Thailand: ['rcp26', 'historical', 'rcp60', 'rcp85']\n",
    "time_horizon = \"2030_2050\"      # Available time horizons for Egypt/Thailand: ['2030_2050', '1980_2000', '2070_2090', '2010_2030', '2050_2070'] / \n",
    "annual_growth = 1.00\n",
    "\n",
    "client = Client()"
   ]
  },
  {
   "cell_type": "code",
   "execution_count": null,
   "metadata": {},
   "outputs": [],
   "source": [
    "# List DataTypeInfos\n",
    "data_type_infos = client.list_data_type_infos()\n",
    "exposure_data_types = [\n",
    "    data_type_info.data_type for data_type_info in data_type_infos if data_type_info.data_type_group == 'exposures']\n",
    "hazard_data_types = [\n",
    "    data_type_info.data_type for data_type_info in data_type_infos if data_type_info.data_type_group == 'hazard']\n",
    "\n",
    "print(\n",
    "    f'Available Exposure data types in CLIMADA API for all countries:\\n{exposure_data_types}')\n",
    "print(\n",
    "    f'Available Hazard data types in CLIMADA API for all countries:\\n{hazard_data_types}')"
   ]
  },
  {
   "cell_type": "code",
   "execution_count": null,
   "metadata": {},
   "outputs": [],
   "source": [
    "# Available country Exposures and Hazard data types\n",
    "dataset_infos = client.list_dataset_infos(\n",
    "    properties={\n",
    "        'country_name': country_name,\n",
    "    }\n",
    ")\n",
    "\n",
    "exposure_data_types = list(set(\n",
    "    [dataset_info.data_type.data_type for dataset_info in dataset_infos if dataset_info.data_type.data_type_group == 'exposures']))\n",
    "hazard_data_types = list(set(\n",
    "    [dataset_info.data_type.data_type for dataset_info in dataset_infos if dataset_info.data_type.data_type_group == 'hazard']))\n",
    "\n",
    "print(\n",
    "    f'Available Exposure data types in CLIMADA API for {country_name}: {exposure_data_types}')\n",
    "print(\n",
    "    f'Available Hazard data types in CLIMADA API for {country_name}: {hazard_data_types}')"
   ]
  },
  {
   "cell_type": "code",
   "execution_count": null,
   "metadata": {},
   "outputs": [],
   "source": [
    "if hazard_type == 'river_flood' or 'wildfire':\n",
    "    available_scenarios = list(set([dataset_info.properties['climate_scenario']\n",
    "                               for dataset_info in dataset_infos if dataset_info.data_type.data_type == hazard_type]))\n",
    "    available_time_horizons = list(set([dataset_info.properties['year_range']\n",
    "                                   for dataset_info in dataset_infos if dataset_info.data_type.data_type == hazard_type]))\n",
    "if hazard_type == 'tropical_cyclone':\n",
    "    available_scenarios = list(set([dataset_info.properties['climate_scenario']\n",
    "                               for dataset_info in dataset_infos if dataset_info.data_type.data_type == hazard_type]))\n",
    "    available_time_horizons = list(set([dataset_info.properties.get(\n",
    "        'ref_year') for dataset_info in dataset_infos if dataset_info.data_type.data_type == hazard_type]))\n",
    "if hazard_type == 'earthquake':\n",
    "    available_scenarios = []\n",
    "    available_time_horizons = []\n",
    "if hazard_type == 'flood':\n",
    "    available_scenarios = []\n",
    "    available_time_horizons = list(set([dataset_info.properties['year_range']\n",
    "                                   for dataset_info in dataset_infos if dataset_info.data_type.data_type == hazard_type]))\n",
    "\n",
    "print(\n",
    "    f'Available climate scenarios for hazard type {hazard_type} in country {country_name}: {available_scenarios}')\n",
    "print(\n",
    "    f'Available time horizons for hazard type {hazard_type} in country {country_name}: {available_time_horizons}')"
   ]
  },
  {
   "cell_type": "code",
   "execution_count": null,
   "metadata": {},
   "outputs": [],
   "source": [
    "# Available country Hazard DatasetInfos\n",
    "hazard_dataset_infos = client.list_dataset_infos(\n",
    "    properties={\n",
    "        \"data_type\": hazard_type,\n",
    "        \"country_name\": country_name,\n",
    "        # \"climate_scenario\": climate_scenario,\n",
    "    }\n",
    ")\n",
    "hazard_dataset_infos"
   ]
  },
  {
   "cell_type": "code",
   "execution_count": null,
   "metadata": {},
   "outputs": [],
   "source": [
    "# Get Exposure\n",
    "# Available Exposures: ['litpop']\n",
    "exposure_present = handlers.get_exposure(country_name)\n",
    "if annual_growth > 1:\n",
    "    exposure_future = handlers.get_growth_exposure(exposure_present, annual_growth, 2040)"
   ]
  },
  {
   "cell_type": "code",
   "execution_count": null,
   "metadata": {},
   "outputs": [],
   "source": [
    "# Get Hazard\n",
    "# Available Hazards: ['river_flood', 'tropical_cyclone', 'wildfire', 'flood', 'earthquake']\n",
    "ref_year = handlers.get_hazard_time_horizon(hazard_type, scenario, country_name)\n",
    "hazard_present = handlers.get_hazard(\n",
    "    hazard_type,\n",
    "    \"historical\",\n",
    "    \"1980_2000\",\n",
    "    country_name,\n",
    ")\n",
    "\n",
    "if scenario != \"historical\":\n",
    "    hazard_future = handlers.get_hazard(\n",
    "        hazard_type,\n",
    "        scenario,\n",
    "        \"2030_2050\",\n",
    "        country_name,\n",
    "    )"
   ]
  },
  {
   "cell_type": "code",
   "execution_count": null,
   "metadata": {},
   "outputs": [],
   "source": [
    "# Get Impact\n",
    "impact_function_set = calculate_impact_function_set(hazard_present)\n",
    "impact_present = calculate_impact(exposure_present, hazard_present, impact_function_set)\n",
    "if scenario != \"historical\":\n",
    "    if annual_growth > 1:\n",
    "        impact_future = calculate_impact(exposure_future, hazard_future, impact_function_set)\n",
    "    impact_future = calculate_impact(exposure_present, hazard_future, impact_function_set)"
   ]
  },
  {
   "cell_type": "code",
   "execution_count": null,
   "metadata": {},
   "outputs": [],
   "source": [
    "measure_set = MeasureSet.from_excel(ENTITIES_DIR / \"entity_template.xlsx\")\n"
   ]
  },
  {
   "cell_type": "code",
   "execution_count": null,
   "metadata": {},
   "outputs": [],
   "source": [
    "# Define adaptation measures\n",
    "measure1 = Measure(\n",
    "    haz_type=\"RF\",\n",
    "    name=\"Measure A\",  # name of the measure\n",
    "    color_rgb=np.array([0.8, 0.1, 0.1]), # integer array of size 3. Color code of this measure in RGB\n",
    "    cost=5000000,  # discounted cost (in same units as assets)\n",
    "    hazard_inten_imp=(1, -1),\n",
    ")\n",
    "\n",
    "measure2 = Measure(\n",
    "    haz_type='RF',\n",
    "    name='Measure B',\n",
    "    color_rgb=np.array([0.1, 0.1, 0.8]),\n",
    "    cost=500000,\n",
    "    paa_impact=(1, -0.10),   # 10% fewer assets affected\n",
    ")\n",
    "\n",
    "# gather all measures\n",
    "measure_set = MeasureSet(measure_list=[measure1, measure2])\n",
    "measure_set.check()"
   ]
  },
  {
   "cell_type": "code",
   "execution_count": null,
   "metadata": {},
   "outputs": [],
   "source": [
    "measure3 = Measure(\n",
    "    haz_type=\"RF\",\n",
    "    name=\"Measure C\",\n",
    "    color_rgb=np.array([0.8, 0.1, 0.1]),\n",
    ")\n",
    "measure_set3 = MeasureSet(\n",
    "    measure_list=[measure3],\n",
    ")\n",
    "measure_set3.check()"
   ]
  },
  {
   "cell_type": "code",
   "execution_count": null,
   "metadata": {},
   "outputs": [],
   "source": []
  },
  {
   "cell_type": "code",
   "execution_count": null,
   "metadata": {},
   "outputs": [],
   "source": [
    "# Define discount rates\n",
    "year_range = np.arange(exposure_present.ref_year, exposure_future.ref_year + 1)\n",
    "n_years = exposure_future.ref_year - exposure_present.ref_year + 1\n",
    "annual_discount_zero = np.zeros(n_years)\n",
    "annual_discount_stern = np.ones(n_years) * 0.014\n",
    "\n",
    "discount_zero = DiscRates(year_range, annual_discount_zero)\n",
    "discount_stern = DiscRates(year_range, annual_discount_stern)"
   ]
  },
  {
   "cell_type": "code",
   "execution_count": null,
   "metadata": {},
   "outputs": [],
   "source": [
    "# Create Entity objects\n",
    "entity_present = Entity(\n",
    "    exposures=exposure_present,\n",
    "    disc_rates=discount_zero,\n",
    "    impact_func_set=impact_function_set,\n",
    "    measure_set=measure_set,\n",
    ")\n",
    "entity_future = Entity(\n",
    "    exposures=exposure_future,\n",
    "    disc_rates=discount_zero,\n",
    "    impact_func_set=impact_function_set,\n",
    "    measure_set=measure_set,\n",
    ")"
   ]
  },
  {
   "cell_type": "code",
   "execution_count": null,
   "metadata": {},
   "outputs": [],
   "source": [
    "# Calculate cost-benefit\n",
    "costben_measures_only = CostBenefit()\n",
    "costben_measures_only.calc(hazard_present, entity_present, haz_future=None, ent_future=None,\n",
    "                           future_year=2040, risk_func=risk_aai_agg, imp_time_depen=None, save_imp=True)\n",
    "\n",
    "costben_measures_only.plot_event_view((25, 50, 100, 250))"
   ]
  },
  {
   "cell_type": "code",
   "execution_count": null,
   "metadata": {},
   "outputs": [],
   "source": [
    "# define this as a function because we'll use it again later\n",
    "def waterfall():\n",
    "  return costben_measures_only.plot_waterfall(hazard_present, entity_present, hazard_future, entity_future,\n",
    "                                risk_func=risk_aai_agg)\n",
    "\n",
    "ax = waterfall()"
   ]
  },
  {
   "cell_type": "code",
   "execution_count": null,
   "metadata": {},
   "outputs": [],
   "source": [
    "costben_measures_only.plot_arrow_averted(axis = waterfall(), in_meas_names=['Measure A', 'Measure B'], accumulate=True, combine=False,\n",
    "                           risk_func=risk_aai_agg, disc_rates=None, imp_time_depen=1)"
   ]
  },
  {
   "cell_type": "code",
   "execution_count": null,
   "metadata": {},
   "outputs": [],
   "source": [
    "impact_function_set.plot()"
   ]
  },
  {
   "cell_type": "code",
   "execution_count": null,
   "metadata": {},
   "outputs": [],
   "source": [
    "entity_present = Entity().from_excel(ENTITIES_DIR / \"entity_template.xlsx\")\n",
    "entity_present.check()\n",
    "entity_present.measures.get_measure('TC')[0].name"
   ]
  }
 ],
 "metadata": {
  "kernelspec": {
   "display_name": "climada_unu",
   "language": "python",
   "name": "python3"
  },
  "language_info": {
   "codemirror_mode": {
    "name": "ipython",
    "version": 3
   },
   "file_extension": ".py",
   "mimetype": "text/x-python",
   "name": "python",
   "nbconvert_exporter": "python",
   "pygments_lexer": "ipython3",
   "version": "3.9.16"
  }
 },
 "nbformat": 4,
 "nbformat_minor": 2
}
