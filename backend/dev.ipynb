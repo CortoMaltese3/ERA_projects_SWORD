{
 "cells": [
  {
   "cell_type": "code",
   "execution_count": 1,
   "metadata": {},
   "outputs": [],
   "source": [
    "import json\n",
    "from pathlib import Path\n",
    "\n",
    "import geopandas as gpd\n",
    "import fiona\n",
    "import numpy as np\n",
    "import pandas as pd\n",
    "import pycountry\n",
    "import shapely\n",
    "from shapely.geometry import Point\n",
    "\n",
    "\n",
    "from climada.util.api_client import Client\n",
    "from climada.entity import LitPop, ImpactFuncSet, ImpactFunc\n",
    "from climada.hazard import Hazard\n",
    "from climada.engine import Impact\n",
    "from climada.entity import Exposures\n",
    "\n",
    "from handlers import get_iso3_country_code, generate_exposure_geojson\n",
    "from logger_config import LoggerConfig\n",
    "\n",
    "logger = LoggerConfig(logger_types=[\"file\"])\n",
    "\n",
    "\n",
    "notebook_dir = %pwd\n",
    "\n",
    "# Go up one directory\n",
    "BASE_DIR = Path(notebook_dir).parent\n",
    "\n",
    "# Define the paths for exposures and hazards\n",
    "DATA_DIR = BASE_DIR / \"data\"\n",
    "EXPOSURES_DIR = BASE_DIR / \"data\" / \"exposures\"\n",
    "HAZARDS_DIR = BASE_DIR / \"data\" / \"hazards\"\n",
    "REQUIREMENTS_DIR = BASE_DIR / \"requirements\"\n",
    "MAP_DIR = BASE_DIR / \"src\" / \"temp\"\n",
    "GADM41_EGY_PATH = REQUIREMENTS_DIR / \"gadm41_EGY.gpkg\"\n",
    "GADM41_THA_PATH = REQUIREMENTS_DIR / \"gadm41_THA.gpkg\"\n",
    "\n",
    "# Available Exposure data types in CLIMADA API for Egypt/Thailand: ['litpop']\n",
    "# Available Hazard data types in CLIMADA API for Egypt/Thailand: ['river_flood', 'wildfire', 'earthquake', 'flood', 'tropical_cyclone']\n",
    "# Available climate scenarios for hazard type river_flood/tropical_c in country Egypt/Thailand: ['rcp26', 'historical', 'rcp60', 'rcp85']\n",
    "# Available time horizons for hazard type river_flood in country Egypt: ['2030_2050', '1980_2000', '2070_2090', '2010_2030', '2050_2070']\n",
    "\n",
    "country_name = \"Egypt\"\n",
    "exposure_type = \"litpop\"        # Available exposure types for Egypt/Thailand: ['litpop']\n",
    "hazard_type = \"river_flood\"     # Available hazard types for Egypt/Thailand: ['river_flood', 'wildfire', 'earthquake', 'flood', 'tropical_cyclone']\n",
    "climate_scenario = \"rcp26\" # Available scenarios for Egypt/Thailand: ['rcp26', 'historical', 'rcp60', 'rcp85']\n",
    "time_horizon = \"2030_2050\"      # Available time horizons for Egypt/Thailand: ['2030_2050', '1980_2000', '2070_2090', '2010_2030', '2050_2070'] / \n",
    "\n",
    "\n",
    "client = Client()"
   ]
  },
  {
   "cell_type": "code",
   "execution_count": 5,
   "metadata": {},
   "outputs": [
    {
     "name": "stdout",
     "output_type": "stream",
     "text": [
      "Available Exposure data types in CLIMADA API for all countries:\n",
      "['litpop', 'crop_production', 'crops']\n",
      "Available Hazard data types in CLIMADA API for all countries:\n",
      "['tropical_cyclone', 'wildfire', 'river_flood', 'storm_europe', 'relative_cropyield', 'earthquake', 'flood', 'hail']\n"
     ]
    }
   ],
   "source": [
    "# List DataTypeInfos\n",
    "data_type_infos = client.list_data_type_infos()\n",
    "exposure_data_types = [data_type_info.data_type for data_type_info in data_type_infos if data_type_info.data_type_group == 'exposures']\n",
    "hazard_data_types = [data_type_info.data_type for data_type_info in data_type_infos if data_type_info.data_type_group == 'hazard']\n",
    "\n",
    "print(f'Available Exposure data types in CLIMADA API for all countries:\\n{exposure_data_types}')\n",
    "print(f'Available Hazard data types in CLIMADA API for all countries:\\n{hazard_data_types}')"
   ]
  },
  {
   "cell_type": "code",
   "execution_count": 64,
   "metadata": {},
   "outputs": [
    {
     "name": "stdout",
     "output_type": "stream",
     "text": [
      "Available Exposure data types in CLIMADA API for Thailand: ['litpop']\n",
      "Available Hazard data types in CLIMADA API for Thailand: ['river_flood', 'wildfire', 'earthquake', 'flood', 'tropical_cyclone']\n"
     ]
    }
   ],
   "source": [
    "# Available country Exposures and Hazard data types\n",
    "dataset_infos = client.list_dataset_infos(\n",
    "    properties={\n",
    "        'country_name': country_name,\n",
    "    }\n",
    ")\n",
    "\n",
    "exposure_data_types= list(set([dataset_info.data_type.data_type for dataset_info in dataset_infos if dataset_info.data_type.data_type_group == 'exposures']))\n",
    "hazard_data_types = list(set([dataset_info.data_type.data_type for dataset_info in dataset_infos if dataset_info.data_type.data_type_group == 'hazard']))\n",
    "\n",
    "print(f'Available Exposure data types in CLIMADA API for {country_name}: {exposure_data_types}')\n",
    "print(f'Available Hazard data types in CLIMADA API for {country_name}: {hazard_data_types}')"
   ]
  },
  {
   "cell_type": "code",
   "execution_count": 36,
   "metadata": {},
   "outputs": [
    {
     "name": "stdout",
     "output_type": "stream",
     "text": [
      "Available climate scenarios for hazard type river_flood in country Egypt: ['rcp26', 'historical', 'rcp60', 'rcp85']\n",
      "Available time horizons for hazard type river_flood in country Egypt: ['2030_2050', '1980_2000', '2070_2090', '2010_2030', '2050_2070']\n"
     ]
    }
   ],
   "source": [
    "if hazard_type == 'river_flood' or 'wildfire':\n",
    "    available_scenarios = list(set([dataset_info.properties['climate_scenario'] for dataset_info in dataset_infos if dataset_info.data_type.data_type == hazard_type]))\n",
    "    available_time_horizons = list(set([dataset_info.properties['year_range'] for dataset_info in dataset_infos if dataset_info.data_type.data_type == hazard_type]))\n",
    "if hazard_type == 'tropical_cyclone':\n",
    "    available_scenarios = list(set([dataset_info.properties['climate_scenario'] for dataset_info in dataset_infos if dataset_info.data_type.data_type == hazard_type]))\n",
    "    available_time_horizons = list(set([dataset_info.properties.get('ref_year') for dataset_info in dataset_infos if dataset_info.data_type.data_type == hazard_type]))\n",
    "if hazard_type == 'earthquake':\n",
    "    available_scenarios = []\n",
    "    available_time_horizons = []\n",
    "if hazard_type == 'flood':\n",
    "    available_scenarios = []\n",
    "    available_time_horizons = list(set([dataset_info.properties['year_range'] for dataset_info in dataset_infos if dataset_info.data_type.data_type == hazard_type]))\n",
    "\n",
    "print(f'Available climate scenarios for hazard type {hazard_type} in country {country_name}: {available_scenarios}')\n",
    "print(f'Available time horizons for hazard type {hazard_type} in country {country_name}: {available_time_horizons}')"
   ]
  },
  {
   "cell_type": "code",
   "execution_count": 4,
   "metadata": {},
   "outputs": [
    {
     "data": {
      "text/plain": [
       "[DatasetInfo(uuid='f3f61cd8-d39b-473c-9acb-fd5bffac52e0', data_type=DataTypeShortInfo(data_type='river_flood', data_type_group='hazard'), name='river_flood_150arcsec_hist_THA_1980_2000', version='v2', status='active', properties={'res_arcsec': '150', 'climate_scenario': 'historical', 'year_range': '1980_2000', 'climada_version': 'v3.1.2', 'spatial_coverage': 'country', 'date_creation': '2022-7-6', 'country_iso3alpha': 'THA', 'country_name': 'Thailand', 'country_iso3num': '764'}, files=[FileInfo(uuid='f3f61cd8-d39b-473c-9acb-fd5bffac52e0', url='https://data.iac.ethz.ch/climada/f3f61cd8-d39b-473c-9acb-fd5bffac52e0/river_flood_150arcsec_hist_THA_1980_2000.hdf5', file_name='river_flood_150arcsec_hist_THA_1980_2000.hdf5', file_format='hdf5', file_size=5679244, check_sum='md5:102d02e170464a1bb15a745edfd8832c')], doi=None, description='Historical CLIMADA flood hazard by country and by 20 year range at a 150 arcsec resolution. The hazard is based on annual spatially explicit flood depth and flooded fractions generated in the framework of the Inter-Sectoral Impact Model Intercomparison Project (ISIMIP).This ensemble encompasses a series of combinations from global circulation models (GCMs) that are used to drive global hydrological models (GHMs). Each CLIMADA river flood file provides 480 probabilistic years,made out of 24 model combinations and a 20 year range. Each eventcorresponds to a probabilistic year and is named based on the followingconvention: year_ghm_GCM.', license='Attribution 4.0 International (CC-BY-4.0)', activation_date='2022-07-06 11:57:05.946582+00:00', expiration_date=None)]"
      ]
     },
     "execution_count": 4,
     "metadata": {},
     "output_type": "execute_result"
    }
   ],
   "source": [
    "# Available country Hazard DatasetInfos\n",
    "hazard_dataset_infos = client.list_dataset_infos(\n",
    "    properties={\n",
    "        'data_type': hazard_type,\n",
    "        'country_name': country_name,\n",
    "        'climate_scenario': climate_scenario\n",
    "    }\n",
    ")\n",
    "hazard_dataset_infos"
   ]
  },
  {
   "cell_type": "code",
   "execution_count": 2,
   "metadata": {},
   "outputs": [
    {
     "data": {
      "text/html": [
       "<div>\n",
       "<style scoped>\n",
       "    .dataframe tbody tr th:only-of-type {\n",
       "        vertical-align: middle;\n",
       "    }\n",
       "\n",
       "    .dataframe tbody tr th {\n",
       "        vertical-align: top;\n",
       "    }\n",
       "\n",
       "    .dataframe thead th {\n",
       "        text-align: right;\n",
       "    }\n",
       "</style>\n",
       "<table border=\"1\" class=\"dataframe\">\n",
       "  <thead>\n",
       "    <tr style=\"text-align: right;\">\n",
       "      <th></th>\n",
       "      <th>value</th>\n",
       "      <th>geometry</th>\n",
       "      <th>latitude</th>\n",
       "      <th>longitude</th>\n",
       "      <th>region_id</th>\n",
       "      <th>impf_</th>\n",
       "    </tr>\n",
       "  </thead>\n",
       "  <tbody>\n",
       "    <tr>\n",
       "      <th>0</th>\n",
       "      <td>5818.850950</td>\n",
       "      <td>POINT (35.60417 23.10417)</td>\n",
       "      <td>23.104167</td>\n",
       "      <td>35.604167</td>\n",
       "      <td>818</td>\n",
       "      <td>1</td>\n",
       "    </tr>\n",
       "    <tr>\n",
       "      <th>1</th>\n",
       "      <td>2754.686960</td>\n",
       "      <td>POINT (35.56250 23.06250)</td>\n",
       "      <td>23.062500</td>\n",
       "      <td>35.562500</td>\n",
       "      <td>818</td>\n",
       "      <td>1</td>\n",
       "    </tr>\n",
       "    <tr>\n",
       "      <th>2</th>\n",
       "      <td>2981.679567</td>\n",
       "      <td>POINT (35.60417 23.06250)</td>\n",
       "      <td>23.062500</td>\n",
       "      <td>35.604167</td>\n",
       "      <td>818</td>\n",
       "      <td>1</td>\n",
       "    </tr>\n",
       "    <tr>\n",
       "      <th>3</th>\n",
       "      <td>686.425475</td>\n",
       "      <td>POINT (35.64583 23.06250)</td>\n",
       "      <td>23.062500</td>\n",
       "      <td>35.645833</td>\n",
       "      <td>818</td>\n",
       "      <td>1</td>\n",
       "    </tr>\n",
       "    <tr>\n",
       "      <th>4</th>\n",
       "      <td>611.069759</td>\n",
       "      <td>POINT (35.52083 23.02083)</td>\n",
       "      <td>23.020833</td>\n",
       "      <td>35.520833</td>\n",
       "      <td>818</td>\n",
       "      <td>1</td>\n",
       "    </tr>\n",
       "    <tr>\n",
       "      <th>...</th>\n",
       "      <td>...</td>\n",
       "      <td>...</td>\n",
       "      <td>...</td>\n",
       "      <td>...</td>\n",
       "      <td>...</td>\n",
       "      <td>...</td>\n",
       "    </tr>\n",
       "    <tr>\n",
       "      <th>52118</th>\n",
       "      <td>9120.352229</td>\n",
       "      <td>POINT (34.52083 27.93750)</td>\n",
       "      <td>27.937500</td>\n",
       "      <td>34.520833</td>\n",
       "      <td>818</td>\n",
       "      <td>1</td>\n",
       "    </tr>\n",
       "    <tr>\n",
       "      <th>52119</th>\n",
       "      <td>15787.142583</td>\n",
       "      <td>POINT (34.56250 27.93750)</td>\n",
       "      <td>27.937500</td>\n",
       "      <td>34.562500</td>\n",
       "      <td>818</td>\n",
       "      <td>1</td>\n",
       "    </tr>\n",
       "    <tr>\n",
       "      <th>52120</th>\n",
       "      <td>8923.414753</td>\n",
       "      <td>POINT (34.60417 27.93750)</td>\n",
       "      <td>27.937500</td>\n",
       "      <td>34.604167</td>\n",
       "      <td>818</td>\n",
       "      <td>1</td>\n",
       "    </tr>\n",
       "    <tr>\n",
       "      <th>52121</th>\n",
       "      <td>1943.688900</td>\n",
       "      <td>POINT (33.10417 31.22917)</td>\n",
       "      <td>31.229167</td>\n",
       "      <td>33.104167</td>\n",
       "      <td>818</td>\n",
       "      <td>1</td>\n",
       "    </tr>\n",
       "    <tr>\n",
       "      <th>52122</th>\n",
       "      <td>1045.704309</td>\n",
       "      <td>POINT (33.18750 31.22917)</td>\n",
       "      <td>31.229167</td>\n",
       "      <td>33.187500</td>\n",
       "      <td>818</td>\n",
       "      <td>1</td>\n",
       "    </tr>\n",
       "  </tbody>\n",
       "</table>\n",
       "<p>52123 rows × 6 columns</p>\n",
       "</div>"
      ],
      "text/plain": [
       "              value                   geometry   latitude  longitude  \\\n",
       "0       5818.850950  POINT (35.60417 23.10417)  23.104167  35.604167   \n",
       "1       2754.686960  POINT (35.56250 23.06250)  23.062500  35.562500   \n",
       "2       2981.679567  POINT (35.60417 23.06250)  23.062500  35.604167   \n",
       "3        686.425475  POINT (35.64583 23.06250)  23.062500  35.645833   \n",
       "4        611.069759  POINT (35.52083 23.02083)  23.020833  35.520833   \n",
       "...             ...                        ...        ...        ...   \n",
       "52118   9120.352229  POINT (34.52083 27.93750)  27.937500  34.520833   \n",
       "52119  15787.142583  POINT (34.56250 27.93750)  27.937500  34.562500   \n",
       "52120   8923.414753  POINT (34.60417 27.93750)  27.937500  34.604167   \n",
       "52121   1943.688900  POINT (33.10417 31.22917)  31.229167  33.104167   \n",
       "52122   1045.704309  POINT (33.18750 31.22917)  31.229167  33.187500   \n",
       "\n",
       "       region_id  impf_  \n",
       "0            818      1  \n",
       "1            818      1  \n",
       "2            818      1  \n",
       "3            818      1  \n",
       "4            818      1  \n",
       "...          ...    ...  \n",
       "52118        818      1  \n",
       "52119        818      1  \n",
       "52120        818      1  \n",
       "52121        818      1  \n",
       "52122        818      1  \n",
       "\n",
       "[52123 rows x 6 columns]"
      ]
     },
     "execution_count": 2,
     "metadata": {},
     "output_type": "execute_result"
    }
   ],
   "source": [
    "# Get Exposure and Exposure gdf\n",
    "# Available Exposures: ['litpop']\n",
    "exposure = client.get_litpop(\n",
    "    country=country_name,\n",
    "    exponents=(1,1),\n",
    "    dump_dir=EXPOSURES_DIR,\n",
    ")\n",
    "exposure_gdf = exposure.gdf\n",
    "exposure_gdf"
   ]
  },
  {
   "cell_type": "code",
   "execution_count": 37,
   "metadata": {},
   "outputs": [],
   "source": [
    "# Get Hazard\n",
    "# Available Hazards: ['river_flood', 'tropical_cyclone', 'wildfire', 'flood', 'earthquake']\n",
    "\n",
    "hazard = client.get_hazard(\n",
    "    hazard_type=hazard_type,\n",
    "    properties={\n",
    "        \"country_name\": country_name,\n",
    "        \"climate_scenario\": climate_scenario,\n",
    "        \"year_range\": time_horizon\n",
    "    },\n",
    "    dump_dir=HAZARDS_DIR,\n",
    ")\n",
    "\n",
    "# if hazard_type == 'river_flood':\n",
    "#     hazard.intensity_thres = 1"
   ]
  },
  {
   "cell_type": "code",
   "execution_count": 32,
   "metadata": {},
   "outputs": [
    {
     "name": "stdout",
     "output_type": "stream",
     "text": [
      "2023-11-21 12:26:06,024 - climada.engine.impact - WARNING - The use of Impact().calc() is deprecated. Use ImpactCalc().impact() instead.\n"
     ]
    },
    {
     "data": {
      "text/plain": [
       "<climada.engine.impact.Impact at 0x25183bd34c0>"
      ]
     },
     "execution_count": 32,
     "metadata": {},
     "output_type": "execute_result"
    }
   ],
   "source": [
    "# Calculate Impact\n",
    "\n",
    "hazard.intensity_thres = 1\n",
    "impact_function = ImpactFunc()\n",
    "impact_function.haz_type = \"RF\"\n",
    "impact_function.intensity_unit = \"m\"\n",
    "impact_function.id = 3\n",
    "impact_function.name = \"Flood Europe JRC Residential\"\n",
    "impact_function.intensity = np.array(\n",
    "    [0.0, 0.5, 1.0, 1.5, 2.0, 3.0, 4.0, 5.0, 6.0, 12.0]\n",
    ")\n",
    "impact_function.mdd = np.array(\n",
    "    [0.00, 0.25, 0.40, 0.50, 0.60, 0.75, 0.85, 0.95, 1.00, 1.00]\n",
    ")\n",
    "impact_function.mdr = np.array(\n",
    "    [0.000, 0.250, 0.400, 0.500, 0.600, 0.750, 0.850, 0.950, 1.000, 1.000]\n",
    ")\n",
    "impact_function.paa = np.ones(len(impact_function.intensity))\n",
    "impact_function_set = ImpactFuncSet()\n",
    "# impact_function_set = ImpactFuncSet([impact_function])\n",
    "impf_id = 3\n",
    "\n",
    "impact_function_set.append(impact_function)\n",
    "exposure.gdf[f\"impf_{impact_function.haz_type}\"] = impf_id\n",
    "exposure.impact_funcs#s = impact_function_set\n",
    "impact = Impact()\n",
    "impact.calc(exposure, impact_function_set, hazard, save_mat=True)\n",
    "\n",
    "impact\n",
    "# impact_function_set.check()"
   ]
  }
 ],
 "metadata": {
  "kernelspec": {
   "display_name": "climada_unu",
   "language": "python",
   "name": "python3"
  },
  "language_info": {
   "codemirror_mode": {
    "name": "ipython",
    "version": 3
   },
   "file_extension": ".py",
   "mimetype": "text/x-python",
   "name": "python",
   "nbconvert_exporter": "python",
   "pygments_lexer": "ipython3",
   "version": "3.9.16"
  }
 },
 "nbformat": 4,
 "nbformat_minor": 2
}
