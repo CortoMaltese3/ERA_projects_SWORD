{
 "cells": [
  {
   "cell_type": "code",
   "execution_count": null,
   "metadata": {},
   "outputs": [],
   "source": [
    "from pathlib import Path\n",
    "\n",
    "from climada.util.api_client import Client\n",
    "\n",
    "EXPOSURES_DIR = Path(\"data\", \"exposures\")\n",
    "HAZARDS_DIR = Path(\"data\", \"hazards\")\n",
    "\n",
    "client = Client()"
   ]
  },
  {
   "cell_type": "code",
   "execution_count": null,
   "metadata": {},
   "outputs": [],
   "source": [
    "data_type_infos= client.list_data_type_infos()\n",
    "data_type_infos"
   ]
  },
  {
   "cell_type": "code",
   "execution_count": null,
   "metadata": {},
   "outputs": [],
   "source": [
    "data_type_groups = set([data_type_info.data_type_group for data_type_info in data_type_infos])\n",
    "data_type_groups"
   ]
  },
  {
   "cell_type": "code",
   "execution_count": null,
   "metadata": {},
   "outputs": [],
   "source": [
    "data_type_exposures = [data_type_info for data_type_info in data_type_infos if data_type_info.data_type_group == 'exposures']\n",
    "data_type_exposures"
   ]
  },
  {
   "cell_type": "code",
   "execution_count": null,
   "metadata": {},
   "outputs": [],
   "source": [
    "data_type_hazards = [data_type_info for data_type_info in data_type_infos if data_type_info.data_type_group == 'hazard']\n",
    "data_type_hazards"
   ]
  },
  {
   "cell_type": "code",
   "execution_count": null,
   "metadata": {},
   "outputs": [],
   "source": [
    "dataset_infos = client.list_dataset_infos(\n",
    "    properties={\n",
    "        'country_name': ['Egypt', 'Thailand'],\n",
    "    }\n",
    ")\n",
    "dataset_infos"
   ]
  },
  {
   "cell_type": "code",
   "execution_count": 28,
   "metadata": {},
   "outputs": [
    {
     "data": {
      "text/plain": [
       "['river_flood',\n",
       " 'tropical_cyclone',\n",
       " 'relative_cropyield',\n",
       " 'hail',\n",
       " 'storm_europe',\n",
       " 'flood',\n",
       " 'earthquake',\n",
       " 'wildfire']"
      ]
     },
     "execution_count": 28,
     "metadata": {},
     "output_type": "execute_result"
    }
   ],
   "source": [
    "data_types_set = list(set([data_type_info.data_type for data_type_info in data_type_infos if data_type_info.data_type_group == 'hazard']))\n",
    "data_types_set"
   ]
  },
  {
   "cell_type": "code",
   "execution_count": null,
   "metadata": {},
   "outputs": [],
   "source": [
    "egypt_litpop_dataset_info = client.get_dataset_info(\n",
    "    data_type='litpop', \n",
    "    properties={\n",
    "        'country_name': 'Egypt',\n",
    "        'exponents': '(1,1)'\n",
    "    }\n",
    ")\n",
    "egypt_litpop_dataset_info"
   ]
  },
  {
   "cell_type": "code",
   "execution_count": null,
   "metadata": {},
   "outputs": [],
   "source": [
    "thailand_litpop_dataset_info = client.get_dataset_info(\n",
    "    data_type='litpop', \n",
    "    properties={\n",
    "        'country_name': 'Egypt',\n",
    "        'exponents': '(1,1)'\n",
    "    }\n",
    ")\n",
    "thailand_litpop_dataset_info"
   ]
  },
  {
   "cell_type": "code",
   "execution_count": 29,
   "metadata": {},
   "outputs": [
    {
     "data": {
      "text/plain": [
       "[DatasetInfo(uuid='508648f4-c242-441f-9ed9-904431c9b92f', data_type=DataTypeShortInfo(data_type='earthquake', data_type_group='hazard'), name='earthquake_hist_above4_818', version='v1.1', status='active', properties={'res_arcsec': '150', 'event_type': 'observed', 'spatial_coverage': 'country', 'country_iso3alpha': 'EGY', 'country_name': 'Egypt', 'country_iso3num': '818'}, files=[FileInfo(uuid='508648f4-c242-441f-9ed9-904431c9b92f', url='https://data.iac.ethz.ch/climada/40e86fb1-873b-45fb-91a8-04f1d97e76b2/earthquake_hist_above4_818.hdf5', file_name='earthquake_hist_above4_818.hdf5', file_format='hdf5', file_size=5365381, check_sum='md5:863bcd1e85990670c785f4859c3708a5')], doi=None, description='Global earthquake hazard set at 4km resolution, \\nbased on USGS epicentres database and a \\nsimple probabilistic sampling starting from the historic earthquake catalog,\\nwith 9 synthetic events per historic record.', license='Attribution 4.0 International (CC-BY-4.0)', activation_date='2023-01-30 16:08:10.151568+00:00', expiration_date=None)]"
      ]
     },
     "execution_count": 29,
     "metadata": {},
     "output_type": "execute_result"
    }
   ],
   "source": [
    "dataset_infos = client.list_dataset_infos(\n",
    "    properties={\n",
    "        'data_type':'earthquake',\n",
    "        'country_name': ['Egypt'],\n",
    "    }\n",
    ")\n",
    "dataset_infos"
   ]
  },
  {
   "cell_type": "code",
   "execution_count": null,
   "metadata": {},
   "outputs": [],
   "source": [
    "[DatasetInfo(uuid='508648f4-c242-441f-9ed9-904431c9b92f', data_type=DataTypeShortInfo(data_type='earthquake', data_type_group='hazard'), name='earthquake_hist_above4_818', version='v1.1', status='active', properties={'res_arcsec': '150', 'event_type': 'observed', 'spatial_coverage': 'country', 'country_iso3alpha': 'EGY', 'country_name': 'Egypt', 'country_iso3num': '818'}, files=[FileInfo(uuid='508648f4-c242-441f-9ed9-904431c9b92f', url='https://data.iac.ethz.ch/climada/40e86fb1-873b-45fb-91a8-04f1d97e76b2/earthquake_hist_above4_818.hdf5', file_name='earthquake_hist_above4_818.hdf5', file_format='hdf5', file_size=5365381, check_sum='md5:863bcd1e85990670c785f4859c3708a5')], doi=None, description='Global earthquake hazard set at 4km resolution, \\nbased on USGS epicentres database and a \\nsimple probabilistic sampling starting from the historic earthquake catalog,\\nwith 9 synthetic events per historic record.', license='Attribution 4.0 International (CC-BY-4.0)', activation_date='2023-01-30 16:08:10.151568+00:00', expiration_date=None)]"
   ]
  },
  {
   "cell_type": "code",
   "execution_count": null,
   "metadata": {},
   "outputs": [],
   "source": [
    "dataset_infos = client.list_dataset_infos(\n",
    "    properties={\n",
    "        'data_type':'river_flood',\n",
    "        'country_name': ['Egypt'],\n",
    "        'climate_scenario': 'historical'\n",
    "    }\n",
    ")\n",
    "dataset_infos"
   ]
  },
  {
   "cell_type": "code",
   "execution_count": null,
   "metadata": {},
   "outputs": [],
   "source": [
    "exposure = client.get_litpop(\n",
    "    country='Egypt',\n",
    "    exponents=(1,1),\n",
    "    dump_dir=EXPOSURES_DIR\n",
    ")\n",
    "exposure"
   ]
  },
  {
   "cell_type": "code",
   "execution_count": null,
   "metadata": {},
   "outputs": [],
   "source": [
    "exposure.gdf"
   ]
  },
  {
   "cell_type": "code",
   "execution_count": null,
   "metadata": {},
   "outputs": [],
   "source": [
    "exposure.plot_raster()"
   ]
  },
  {
   "cell_type": "code",
   "execution_count": null,
   "metadata": {},
   "outputs": [],
   "source": [
    "from rasterio.warp import Resampling\n",
    "from climada.entity import LitPop, ImpactFuncSet, ImpactFunc\n",
    "from climada.hazard import Hazard\n",
    "from climada.engine import Impact\n",
    "from climada.util.constants import HAZ_DEMO_FL\n",
    "\n",
    "haz_ras = Hazard.from_raster([HAZ_DEMO_FL], haz_type='FL', dst_crs=exposure.meta['crs'], transform=exposure.meta['transform'],\n",
    "                             width=exposure.meta['width'], height=exposure.meta['height'],\n",
    "                             resampling=Resampling.nearest)\n",
    "haz_ras.intensity[haz_ras.intensity==-9999] = 0 # correct no data values\n",
    "haz_ras.plot_intensity(0)"
   ]
  },
  {
   "cell_type": "code",
   "execution_count": null,
   "metadata": {},
   "outputs": [],
   "source": [
    "import rasterio\n",
    "import numpy as np\n",
    "import pandas as pd\n",
    "\n",
    "with rasterio.open('SC22000_VE__M1.grd') as src:\n",
    "    array = src.read(1)\n",
    "\n",
    "# Replace 'nodata' values with NaN if needed\n",
    "array[array == src.nodata] = np.nan\n",
    "\n",
    "# Convert to DataFrame\n",
    "df = pd.DataFrame(array)\n",
    "df"
   ]
  },
  {
   "cell_type": "code",
   "execution_count": null,
   "metadata": {},
   "outputs": [],
   "source": [
    "hazard = client.get_hazard(\n",
    "    hazard_type='river_flood',\n",
    "    properties={\n",
    "        'country_name': 'Egypt',\n",
    "        'climate_scenario': 'historical'\n",
    "    },\n",
    "    dump_dir=HAZARDS_DIR,\n",
    ")"
   ]
  },
  {
   "cell_type": "code",
   "execution_count": null,
   "metadata": {},
   "outputs": [],
   "source": [
    "# Calculate impact\n",
    "\n",
    "# hazard.intensity_thres = 1\n",
    "impact = "
   ]
  }
 ],
 "metadata": {
  "kernelspec": {
   "display_name": "climada_unu",
   "language": "python",
   "name": "python3"
  },
  "language_info": {
   "codemirror_mode": {
    "name": "ipython",
    "version": 3
   },
   "file_extension": ".py",
   "mimetype": "text/x-python",
   "name": "python",
   "nbconvert_exporter": "python",
   "pygments_lexer": "ipython3",
   "version": "3.9.16"
  }
 },
 "nbformat": 4,
 "nbformat_minor": 2
}
