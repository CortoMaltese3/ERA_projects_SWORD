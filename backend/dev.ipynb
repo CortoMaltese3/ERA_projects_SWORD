{
 "cells": [
  {
   "cell_type": "code",
   "execution_count": 118,
   "metadata": {},
   "outputs": [],
   "source": [
    "# Setup scenario\n",
    "from constants import DATA_ENTITIES_DIR, DATA_HAZARDS_DIR, DATA_TEMP_DIR, REQUIREMENTS_DIR\n",
    "import geopandas as gpd\n",
    "import matplotlib.pyplot as plt\n",
    "import numpy as np\n",
    "import pandas as pd\n",
    "\n",
    "from climada.engine import CostBenefit, Impact, ImpactCalc\n",
    "from climada.engine.cost_benefit import risk_aai_agg\n",
    "from climada.entity import DiscRates, Entity, Exposures, LitPop\n",
    "from climada.entity.impact_funcs import ImpactFunc, ImpactFuncSet, ImpfTropCyclone\n",
    "from climada.entity.impact_funcs.storm_europe import ImpfStormEurope\n",
    "from climada.entity.impact_funcs.trop_cyclone import ImpfSetTropCyclone\n",
    "from climada.entity.measures import Measure, MeasureSet\n",
    "from climada.hazard import Hazard\n",
    "from climada.util.api_client import Client\n",
    "\n",
    "from costben.costben_handler import CostBenefitHandler\n",
    "from exposure.exposure_handler import ExposureHandler\n",
    "from hazard.hazard_handler import HazardHandler\n",
    "from impact.impact_handler import ImpactHandler\n",
    "\n",
    "import handlers\n",
    "from logger_config import LoggerConfig\n",
    "\n",
    "logger = LoggerConfig(logger_types=[\"file\"])\n",
    "\n",
    "costben_handler = CostBenefitHandler()\n",
    "exposure_handler = ExposureHandler()\n",
    "hazard_handler = HazardHandler()\n",
    "impact_handler = ImpactHandler()\n",
    "\n",
    "\n",
    "# Available Exposure data types in CLIMADA API for Egypt/Thailand: ['litpop']\n",
    "# Available Hazard data types in CLIMADA API for Egypt/Thailand: ['river_flood', 'wildfire', 'earthquake', 'flood', 'tropical_cyclone']\n",
    "# Available climate scenarios for hazard type river_flood/tropical_c in country Egypt/Thailand: ['rcp26', 'historical', 'rcp60', 'rcp85']\n",
    "# Available time horizons for hazard type river_flood in country Egypt: ['2030_2050', '1980_2000', '2070_2090', '2010_2030', '2050_2070']\n",
    "\n",
    "country_name = \"Egypt\"\n",
    "exposure_type = \"litpop\"  # Available exposure types for Egypt/Thailand: ['litpop']\n",
    "hazard_type = \"river_flood\"  # Available hazard types for Egypt/Thailand: ['river_flood', 'wildfire', 'earthquake', 'flood', 'tropical_cyclone']\n",
    "scenario = (\n",
    "    \"rcp26\"  # Available scenarios for Egypt/Thailand: ['rcp26', 'historical', 'rcp60', 'rcp85']\n",
    ")\n",
    "time_horizon = \"2030_2050\"  # Available time horizons for Egypt/Thailand: ['2030_2050', '1980_2000', '2070_2090', '2010_2030', '2050_2070']\n",
    "annual_growth = 1.01\n",
    "\n",
    "client = Client()"
   ]
  },
  {
   "cell_type": "code",
   "execution_count": null,
   "metadata": {},
   "outputs": [],
   "source": [
    "# List DataTypeInfos\n",
    "data_type_infos = client.list_data_type_infos()\n",
    "exposure_data_types = [\n",
    "    data_type_info.data_type\n",
    "    for data_type_info in data_type_infos\n",
    "    if data_type_info.data_type_group == \"exposures\"\n",
    "]\n",
    "hazard_data_types = [\n",
    "    data_type_info.data_type\n",
    "    for data_type_info in data_type_infos\n",
    "    if data_type_info.data_type_group == \"hazard\"\n",
    "]\n",
    "\n",
    "print(\n",
    "    f\"Available Exposure data types in CLIMADA API for all countries:\\n{exposure_data_types}\")\n",
    "print(\n",
    "    f\"Available Hazard data types in CLIMADA API for all countries:\\n{hazard_data_types}\")"
   ]
  },
  {
   "cell_type": "code",
   "execution_count": null,
   "metadata": {},
   "outputs": [],
   "source": [
    "# Available country Exposures and Hazard data types\n",
    "dataset_infos = client.list_dataset_infos(\n",
    "    properties={\n",
    "        \"country_name\": country_name,\n",
    "    }\n",
    ")\n",
    "\n",
    "exposure_data_types = list(\n",
    "    set(\n",
    "        [\n",
    "            dataset_info.data_type.data_type\n",
    "            for dataset_info in dataset_infos\n",
    "            if dataset_info.data_type.data_type_group == \"exposures\"\n",
    "        ]\n",
    "    )\n",
    ")\n",
    "hazard_data_types = list(\n",
    "    set(\n",
    "        [\n",
    "            dataset_info.data_type.data_type\n",
    "            for dataset_info in dataset_infos\n",
    "            if dataset_info.data_type.data_type_group == \"hazard\"\n",
    "        ]\n",
    "    )\n",
    ")\n",
    "\n",
    "print(\n",
    "    f\"Available Exposure data types in CLIMADA API for {country_name}: {exposure_data_types}\")\n",
    "print(\n",
    "    f\"Available Hazard data types in CLIMADA API for {country_name}: {hazard_data_types}\")"
   ]
  },
  {
   "cell_type": "code",
   "execution_count": null,
   "metadata": {},
   "outputs": [],
   "source": [
    "# Available climate scenarios and time horizons for specific hazard type in countries Thailand and Egypt\n",
    "if hazard_type == \"river_flood\" or \"wildfire\":\n",
    "    available_scenarios = list(\n",
    "        set(\n",
    "            [\n",
    "                dataset_info.properties[\"climate_scenario\"]\n",
    "                for dataset_info in dataset_infos\n",
    "                if dataset_info.data_type.data_type == hazard_type\n",
    "            ]\n",
    "        )\n",
    "    )\n",
    "    available_time_horizons = list(\n",
    "        set(\n",
    "            [\n",
    "                dataset_info.properties[\"year_range\"]\n",
    "                for dataset_info in dataset_infos\n",
    "                if dataset_info.data_type.data_type == hazard_type\n",
    "            ]\n",
    "        )\n",
    "    )\n",
    "if hazard_type == \"tropical_cyclone\":\n",
    "    available_scenarios = list(\n",
    "        set(\n",
    "            [\n",
    "                dataset_info.properties[\"climate_scenario\"]\n",
    "                for dataset_info in dataset_infos\n",
    "                if dataset_info.data_type.data_type == hazard_type\n",
    "            ]\n",
    "        )\n",
    "    )\n",
    "    available_time_horizons = list(\n",
    "        set(\n",
    "            [\n",
    "                dataset_info.properties.get(\"ref_year\")\n",
    "                for dataset_info in dataset_infos\n",
    "                if dataset_info.data_type.data_type == hazard_type\n",
    "            ]\n",
    "        )\n",
    "    )\n",
    "if hazard_type == \"earthquake\":\n",
    "    available_scenarios = []\n",
    "    available_time_horizons = []\n",
    "if hazard_type == \"flood\":\n",
    "    available_scenarios = []\n",
    "    available_time_horizons = list(\n",
    "        set(\n",
    "            [\n",
    "                dataset_info.properties[\"year_range\"]\n",
    "                for dataset_info in dataset_infos\n",
    "                if dataset_info.data_type.data_type == hazard_type\n",
    "            ]\n",
    "        )\n",
    "    )\n",
    "\n",
    "print(\n",
    "    f\"Available climate scenarios for hazard type {hazard_type} in country {country_name}: {available_scenarios}\"\n",
    ")\n",
    "print(\n",
    "    f\"Available time horizons for hazard type {hazard_type} in country {country_name}: {available_time_horizons}\"\n",
    ")"
   ]
  },
  {
   "cell_type": "code",
   "execution_count": null,
   "metadata": {},
   "outputs": [],
   "source": [
    "# Available country Hazard DatasetInfos\n",
    "hazard_dataset_infos = client.list_dataset_infos(\n",
    "    properties={\n",
    "        \"data_type\": hazard_type,\n",
    "        \"country_name\": country_name,\n",
    "        # \"climate_scenario\": climate_scenario,\n",
    "    }\n",
    ")\n",
    "hazard_dataset_infos"
   ]
  },
  {
   "cell_type": "code",
   "execution_count": 7,
   "metadata": {},
   "outputs": [],
   "source": [
    "# Get Exposure\n",
    "# Available Exposures: ['litpop']\n",
    "exposure_present = exposure_handler.get_exposure(country_name)\n",
    "if annual_growth > 1:\n",
    "    exposure_future = exposure_handler.get_growth_exposure(\n",
    "        exposure_present, annual_growth, 2040)"
   ]
  },
  {
   "cell_type": "code",
   "execution_count": 34,
   "metadata": {},
   "outputs": [
    {
     "name": "stdout",
     "output_type": "stream",
     "text": [
      "2024-02-23 11:40:38,478 - climada.util.coordinates - WARNING - Distance to closest centroid is greater than 100km for 16855 coordinates.\n",
      "2024-02-23 11:40:44,030 - climada.util.coordinates - WARNING - Distance to closest centroid is greater than 100km for 16855 coordinates.\n"
     ]
    }
   ],
   "source": [
    "future_year = 2080\n",
    "\n",
    "exposure_present = client.get_litpop(\"Egypt\")\n",
    "exposure_present.gdf.rename(columns={\"impf_\": \"impf_RF\"}, inplace=True)\n",
    "exposure_present.gdf['impf_RF'] = 1\n",
    "\n",
    "if annual_growth > 1:\n",
    "    exposure_future = exposure_handler.get_growth_exposure(\n",
    "        exposure_present, annual_growth, future_year)\n",
    "    exposure_future.gdf.rename(columns={\"impf_\": \"impf_RF\"}, inplace=True)\n",
    "    exposure_future.gdf['impf_RF'] = 1\n",
    "    \n",
    "hazard_present = client.get_hazard('river_flood', \n",
    "                                properties={'country_name': 'Egypt', \n",
    "                                            'climate_scenario': 'historical',\n",
    "                                            'nb_synth_tracks':'10'})\n",
    "hazard_future = client.get_hazard('river_flood', \n",
    "                                properties={'country_name': 'Egypt', \n",
    "                                            'climate_scenario': 'rcp60',\n",
    "                                            'ref_year': str(future_year),\n",
    "                                            'nb_synth_tracks':'10'})    \n",
    "\n",
    "exposure_present.assign_centroids(hazard_present, distance='approx')\n",
    "if annual_growth > 1:\n",
    "    exposure_future.assign_centroids(hazard_future, distance='approx')\n",
    "\n",
    "impf_tc = ImpfTropCyclone.from_emanuel_usa()\n",
    "\n",
    "# add the impact function to an Impact function set\n",
    "impf_set = ImpactFuncSet([impf_tc])\n",
    "impf_set.check()\n",
    "\n",
    "\n",
    "measure_set = costben_handler.get_measure_set_from_excel('TC')\n",
    "discount_rates = costben_handler.get_discount_rates_from_excel()\n",
    "\n",
    "# Create Entity objects\n",
    "entity_present = exposure_handler.get_entity(\n",
    "    exposure_present, discount_rates, impf_set, measure_set\n",
    ")\n",
    "\n",
    "if scenario != \"historical\":\n",
    "    entity_future = exposure_handler.get_entity(\n",
    "        exposure_future, discount_rates, impf_set, measure_set\n",
    "    )\n",
    "\n",
    "cost_benefit = costben_handler.calculate_cost_benefit(hazard_present, entity_present, hazard_future, entity_future, future_year=2040)\n",
    "cost_benefit"
   ]
  },
  {
   "cell_type": "code",
   "execution_count": 106,
   "metadata": {},
   "outputs": [
    {
     "data": {
      "text/plain": [
       "[]"
      ]
     },
     "execution_count": 106,
     "metadata": {},
     "output_type": "execute_result"
    }
   ],
   "source": [
    "import numpy as np\n",
    "import matplotlib.pyplot as plt\n",
    "from climada.entity.measures import Measure, MeasureSet\n",
    "\n",
    "meas_1 = Measure(\n",
    "    haz_type='TC',\n",
    "    name='Measure A',\n",
    "    color_rgb=np.array([0.8, 0.1, 0.1]),\n",
    "    cost=5000000000,\n",
    "    hazard_inten_imp=(1, -5),     # Decrease wind speeds by 5 m/s\n",
    "    risk_transf_cover=0,\n",
    ")\n",
    "\n",
    "meas_2 = Measure(\n",
    "    haz_type='TC',\n",
    "    name='Measure B',\n",
    "    color_rgb=np.array([0.1, 0.1, 0.8]),\n",
    "    cost=220000000,\n",
    "    paa_impact=(1, -0.10),   # 10% fewer assets affected\n",
    ")\n",
    "\n",
    "meas_1.exp_region_id\n",
    "\n",
    "# gather all measures\n",
    "# measure_set = MeasureSet(measure_list=[meas_1, meas_2])\n",
    "# measure_set.check()\n",
    "# print(measure_set.get_measure())\n",
    "\n",
    "# # Create Entity objects\n",
    "# entity_present = exposure_handler.get_entity(\n",
    "#     exposure_present, discount_rates, impf_set, measure_set\n",
    "# )\n",
    "\n",
    "# if scenario != \"historical\":\n",
    "#     entity_future = exposure_handler.get_entity(\n",
    "#         exposure_future, discount_rates, impf_set, measure_set\n",
    "#     )\n",
    "\n",
    "# cost_benefit = costben_handler.calculate_cost_benefit(hazard_present, entity_present, hazard_future, entity_future, future_year=2040)\n",
    "# cost_benefit\n"
   ]
  },
  {
   "cell_type": "code",
   "execution_count": 123,
   "metadata": {},
   "outputs": [
    {
     "name": "stdout",
     "output_type": "stream",
     "text": [
      "2024-02-23 13:22:47,643 - climada.util.coordinates - WARNING - Distance to closest centroid is greater than 100km for 17378 coordinates.\n",
      "2024-02-23 13:22:47,711 - climada.util.coordinates - WARNING - Distance to closest centroid is greater than 100km for 17378 coordinates.\n",
      "\n",
      "Measure                  Cost (USD )    Benefit (USD )    Benefit/Cost\n",
      "---------------------  -------------  ----------------  --------------\n",
      "beach nourishment        4.05725e+07                 0               0\n",
      "vegetation management    6.39681e+07                 0               0\n",
      "risk transfer            2.1e+07                     0               0\n",
      "\n",
      "--------------------  -  ------\n",
      "Total climate risk:   0  (USD )\n",
      "Average annual risk:  0  (USD )\n",
      "Residual risk:        0  (USD )\n",
      "--------------------  -  ------\n",
      "Net Present Values\n"
     ]
    },
    {
     "data": {
      "text/plain": [
       "<climada.engine.cost_benefit.CostBenefit at 0x1c6fc0e2670>"
      ]
     },
     "execution_count": 123,
     "metadata": {},
     "output_type": "execute_result"
    }
   ],
   "source": [
    "measure_set = MeasureSet.from_excel(REQUIREMENTS_DIR / \"adaptation_measures.xlsx\")\n",
    "# measure_set.get_measure()\n",
    "# measure_set.remove_measure('TS')\n",
    "# measure_set.remove_measure('RF')\n",
    "\n",
    "# print(measure_set.get_names())\n",
    "\n",
    "# measure_set = costben_handler.get_measure_set_from_excel('TC')\n",
    "\n",
    "meas_1 = measure_set.get_measure('TC', 'beach nourishment')\n",
    "meas_2 = measure_set.get_measure('TC', 'vegetation management')\n",
    "# meas_3 = measure_set.get_measure('TC', 'enforce building code')\n",
    "meas_4 = measure_set.get_measure('TC', 'risk transfer')\n",
    "\n",
    "measure_set = MeasureSet(measure_list=[meas_1, meas_2, meas_4])\n",
    "\n",
    "entity_present = exposure_handler.get_entity(\n",
    "    exposure_present, discount_rates, impf_set, measure_set\n",
    ")\n",
    "\n",
    "if scenario != \"historical\":\n",
    "    entity_future = exposure_handler.get_entity(\n",
    "        exposure_future, discount_rates, impf_set, measure_set\n",
    "    )\n",
    "\n",
    "cost_benefit = costben_handler.calculate_cost_benefit(hazard_present, entity_present, hazard_future, entity_future, future_year=2040)\n",
    "cost_benefit"
   ]
  },
  {
   "cell_type": "code",
   "execution_count": 18,
   "metadata": {},
   "outputs": [],
   "source": [
    "# Get Hazard\n",
    "# Available Hazards: ['river_flood', 'tropical_cyclone', 'wildfire', 'flood', 'earthquake']\n",
    "hazard_present = hazard_handler.get_hazard(\n",
    "    hazard_type,\n",
    "    \"historical\",\n",
    "    \"1980_2000\",\n",
    "    country_name,\n",
    ")\n",
    "\n",
    "if scenario != \"historical\":\n",
    "    hazard_future = hazard_handler.get_hazard(\n",
    "        hazard_type,\n",
    "        scenario,\n",
    "        time_horizon,\n",
    "        country_name,\n",
    "    )"
   ]
  },
  {
   "cell_type": "code",
   "execution_count": 19,
   "metadata": {},
   "outputs": [],
   "source": [
    "# Get Impact\n",
    "impact_function_set = impact_handler.calculate_impact_function_set(hazard_present)\n",
    "impact_present = impact_handler.calculate_impact(exposure_present, hazard_present, impact_function_set)\n",
    "\n",
    "if scenario != \"historical\":\n",
    "    if annual_growth > 1:\n",
    "        impact_future = impact_handler.calculate_impact(\n",
    "            exposure_future, hazard_future, impact_function_set)\n",
    "    impact_future = impact_handler.calculate_impact(\n",
    "        exposure_present, hazard_future, impact_function_set)"
   ]
  },
  {
   "cell_type": "code",
   "execution_count": 20,
   "metadata": {},
   "outputs": [],
   "source": [
    "measure_set = costben_handler.get_measure_set_from_excel('RF')\n",
    "discount_rates = costben_handler.get_discount_rates_from_excel()"
   ]
  },
  {
   "cell_type": "code",
   "execution_count": 21,
   "metadata": {},
   "outputs": [],
   "source": [
    "# Create Entity objects\n",
    "entity_present = exposure_handler.get_entity(\n",
    "    exposure_present, discount_rates, impact_function_set, measure_set\n",
    ")\n",
    "\n",
    "if scenario != \"historical\":\n",
    "    entity_future = exposure_handler.get_entity(\n",
    "        exposure_future, discount_rates, impact_function_set, measure_set\n",
    "    )"
   ]
  },
  {
   "cell_type": "code",
   "execution_count": 22,
   "metadata": {},
   "outputs": [
    {
     "name": "stdout",
     "output_type": "stream",
     "text": [
      "\n",
      "Measure        Cost (USD )    Benefit (USD )    Benefit/Cost\n",
      "-----------  -------------  ----------------  --------------\n",
      "river banks          1e+06                 0               0\n",
      "sandbags        500000                     0               0\n",
      "river wall      200000                     0               0\n",
      "\n",
      "--------------------  -----------  ------\n",
      "Total climate risk:   1.14099e+11  (USD )\n",
      "Average annual risk:  1.20042e+10  (USD )\n",
      "Residual risk:        1.14099e+11  (USD )\n",
      "--------------------  -----------  ------\n",
      "Net Present Values\n"
     ]
    },
    {
     "data": {
      "text/plain": [
       "<climada.engine.cost_benefit.CostBenefit at 0x1c6f29cf700>"
      ]
     },
     "execution_count": 22,
     "metadata": {},
     "output_type": "execute_result"
    }
   ],
   "source": [
    "cost_benefit = costben_handler.calculate_cost_benefit(hazard_present, entity_present, hazard_future, entity_future, future_year=2040)\n",
    "cost_benefit"
   ]
  },
  {
   "cell_type": "code",
   "execution_count": 23,
   "metadata": {},
   "outputs": [
    {
     "name": "stdout",
     "output_type": "stream",
     "text": [
      "\n",
      "Measure        Cost (USD )    Benefit (USD )    Benefit/Cost\n",
      "-----------  -------------  ----------------  --------------\n",
      "river banks          1e+06                 0               0\n",
      "sandbags        500000                     0               0\n",
      "river wall      200000                     0               0\n",
      "\n",
      "--------------------  -----------  ------\n",
      "Total climate risk:   1.14099e+11  (USD )\n",
      "Average annual risk:  1.20042e+10  (USD )\n",
      "Residual risk:        1.14099e+11  (USD )\n",
      "--------------------  -----------  ------\n",
      "Net Present Values\n"
     ]
    }
   ],
   "source": [
    "costben_disc = CostBenefit()\n",
    "costben_disc.calc(hazard_present, entity_present, haz_future=hazard_future, ent_future=entity_future,\n",
    "                  future_year=2024, risk_func=risk_aai_agg, imp_time_depen=1, save_imp=True)"
   ]
  },
  {
   "cell_type": "code",
   "execution_count": 24,
   "metadata": {},
   "outputs": [
    {
     "data": {
      "image/png": "[encoded data removed]",
      "text/plain": [
       "<Figure size 640x480 with 1 Axes>"
      ]
     },
     "metadata": {},
     "output_type": "display_data"
    }
   ],
   "source": [
    "ax = costben_disc.plot_cost_benefit()"
   ]
  },
  {
   "cell_type": "code",
   "execution_count": 25,
   "metadata": {},
   "outputs": [
    {
     "data": {
      "image/png": "[encoded data removed]",
      "text/plain": [
       "<Figure size 640x480 with 1 Axes>"
      ]
     },
     "metadata": {},
     "output_type": "display_data"
    }
   ],
   "source": [
    "# ax = cost_benefit.plot_cost_benefit()\n",
    "ax = costben_disc.plot_event_view((25, 50, 100, 250))"
   ]
  },
  {
   "cell_type": "code",
   "execution_count": 16,
   "metadata": {},
   "outputs": [
    {
     "ename": "AttributeError",
     "evalue": "'NoneType' object has no attribute 'exposures'",
     "output_type": "error",
     "traceback": [
      "\u001b[1;31m---------------------------------------------------------------------------\u001b[0m",
      "\u001b[1;31mAttributeError\u001b[0m                            Traceback (most recent call last)",
      "Cell \u001b[1;32mIn[16], line 2\u001b[0m\n\u001b[0;32m      1\u001b[0m entity_present \u001b[38;5;241m=\u001b[39m exposure_handler\u001b[38;5;241m.\u001b[39mget_entity_from_xlsx(\u001b[38;5;124m\"\u001b[39m\u001b[38;5;124mentity_template.xlsx\u001b[39m\u001b[38;5;124m\"\u001b[39m)\n\u001b[1;32m----> 2\u001b[0m exposure_present \u001b[38;5;241m=\u001b[39m \u001b[43mentity_present\u001b[49m\u001b[38;5;241;43m.\u001b[39;49m\u001b[43mexposures\u001b[49m\n\u001b[0;32m      3\u001b[0m hazard_present \u001b[38;5;241m=\u001b[39m hazard_handler\u001b[38;5;241m.\u001b[39mget_hazard_from_xlsx(\u001b[38;5;124m\"\u001b[39m\u001b[38;5;124mhazard_template.xlsx\u001b[39m\u001b[38;5;124m\"\u001b[39m)\n\u001b[0;32m      5\u001b[0m exposure_present\u001b[38;5;241m.\u001b[39massign_centroids(hazard_present, distance\u001b[38;5;241m=\u001b[39m\u001b[38;5;124m'\u001b[39m\u001b[38;5;124mapprox\u001b[39m\u001b[38;5;124m'\u001b[39m)\n",
      "\u001b[1;31mAttributeError\u001b[0m: 'NoneType' object has no attribute 'exposures'"
     ]
    }
   ],
   "source": [
    "entity_present = exposure_handler.get_entity_from_xlsx(\"entity_template.xlsx\")\n",
    "exposure_present = entity_present.exposures\n",
    "hazard_present = hazard_handler.get_hazard_from_xlsx(\"hazard_template.xlsx\")\n",
    "\n",
    "exposure_present.assign_centroids(hazard_present, distance='approx')\n",
    "hazard_present.haz_type = 'D'"
   ]
  }
 ],
 "metadata": {
  "kernelspec": {
   "display_name": "climada_unu",
   "language": "python",
   "name": "python3"
  },
  "language_info": {
   "codemirror_mode": {
    "name": "ipython",
    "version": 3
   },
   "file_extension": ".py",
   "mimetype": "text/x-python",
   "name": "python",
   "nbconvert_exporter": "python",
   "pygments_lexer": "ipython3",
   "version": "3.9.16"
  }
 },
 "nbformat": 4,
 "nbformat_minor": 2
}
