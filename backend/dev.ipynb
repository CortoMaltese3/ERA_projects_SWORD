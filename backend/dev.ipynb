{
 "cells": [
  {
   "cell_type": "code",
   "execution_count": null,
   "metadata": {},
   "outputs": [],
   "source": [
    "# Setup scenario\n",
    "from copy import deepcopy\n",
    "import json\n",
    "from pathlib import Path\n",
    "from time import time\n",
    "\n",
    "import geopandas as gpd\n",
    "import fiona\n",
    "import numpy as np\n",
    "import pandas as pd\n",
    "import pycountry\n",
    "import shapely\n",
    "from shapely.geometry import Point\n",
    "\n",
    "\n",
    "from climada.util.api_client import Client\n",
    "from climada.entity import Entity, Exposures, LitPop\n",
    "from climada.entity.impact_funcs import ImpactFunc, ImpactFuncSet, ImpfTropCyclone\n",
    "from climada.hazard import Hazard\n",
    "from climada.engine import Impact, ImpactCalc\n",
    "from climada.entity.impact_funcs.storm_europe import ImpfStormEurope\n",
    "from climada.entity.impact_funcs.trop_cyclone import ImpfSetTropCyclone\n",
    "\n",
    "import handlers\n",
    "from handlers import calculate_impact, calculate_impact_function_set, get_exposure_new, get_hazard_new, get_iso3_country_code, get_ref_year\n",
    "from logger_config import LoggerConfig\n",
    "\n",
    "logger = LoggerConfig(logger_types=[\"file\"])\n",
    "\n",
    "\n",
    "notebook_dir = %pwd\n",
    "\n",
    "# Go up one directory\n",
    "BASE_DIR = Path(notebook_dir).parent\n",
    "\n",
    "# Define the paths for exposures and hazards\n",
    "DATA_DIR = BASE_DIR / \"data\"\n",
    "EXPOSURES_DIR = BASE_DIR / \"data\" / \"exposures\"\n",
    "HAZARDS_DIR = BASE_DIR / \"data\" / \"hazards\"\n",
    "REQUIREMENTS_DIR = BASE_DIR / \"requirements\"\n",
    "GADM41_EGY_PATH = REQUIREMENTS_DIR / \"gadm41_EGY.gpkg\"\n",
    "GADM41_THA_PATH = REQUIREMENTS_DIR / \"gadm41_THA.gpkg\"\n",
    "TEMP_DIR = DATA_DIR / \"temp\" \n",
    "ENTITIES_DIR = BASE_DIR / \"data\" / \"entities\"\n",
    "\n",
    "# Available Exposure data types in CLIMADA API for Egypt/Thailand: ['litpop']\n",
    "# Available Hazard data types in CLIMADA API for Egypt/Thailand: ['river_flood', 'wildfire', 'earthquake', 'flood', 'tropical_cyclone']\n",
    "# Available climate scenarios for hazard type river_flood/tropical_c in country Egypt/Thailand: ['rcp26', 'historical', 'rcp60', 'rcp85']\n",
    "# Available time horizons for hazard type river_flood in country Egypt: ['2030_2050', '1980_2000', '2070_2090', '2010_2030', '2050_2070']\n",
    "\n",
    "country_name = \"Thailand\"\n",
    "exposure_type = \"litpop\"        # Available exposure types for Egypt/Thailand: ['litpop']\n",
    "hazard_type = \"earthquake\"     # Available hazard types for Egypt/Thailand: ['river_flood', 'wildfire', 'earthquake', 'flood', 'tropical_cyclone']\n",
    "climate_scenario = \"historical\" # Available scenarios for Egypt/Thailand: ['rcp26', 'historical', 'rcp60', 'rcp85']\n",
    "time_horizon = \"2030_2050\"      # Available time horizons for Egypt/Thailand: ['2030_2050', '1980_2000', '2070_2090', '2010_2030', '2050_2070'] / \n",
    "annual_growth = 1.01\n",
    "\n",
    "client = Client()"
   ]
  },
  {
   "cell_type": "code",
   "execution_count": null,
   "metadata": {},
   "outputs": [],
   "source": [
    "# List DataTypeInfos\n",
    "data_type_infos = client.list_data_type_infos()\n",
    "exposure_data_types = [\n",
    "    data_type_info.data_type for data_type_info in data_type_infos if data_type_info.data_type_group == 'exposures']\n",
    "hazard_data_types = [\n",
    "    data_type_info.data_type for data_type_info in data_type_infos if data_type_info.data_type_group == 'hazard']\n",
    "\n",
    "print(\n",
    "    f'Available Exposure data types in CLIMADA API for all countries:\\n{exposure_data_types}')\n",
    "print(\n",
    "    f'Available Hazard data types in CLIMADA API for all countries:\\n{hazard_data_types}')"
   ]
  },
  {
   "cell_type": "code",
   "execution_count": null,
   "metadata": {},
   "outputs": [],
   "source": [
    "# Available country Exposures and Hazard data types\n",
    "dataset_infos = client.list_dataset_infos(\n",
    "    properties={\n",
    "        'country_name': country_name,\n",
    "    }\n",
    ")\n",
    "\n",
    "exposure_data_types = list(set(\n",
    "    [dataset_info.data_type.data_type for dataset_info in dataset_infos if dataset_info.data_type.data_type_group == 'exposures']))\n",
    "hazard_data_types = list(set(\n",
    "    [dataset_info.data_type.data_type for dataset_info in dataset_infos if dataset_info.data_type.data_type_group == 'hazard']))\n",
    "\n",
    "print(\n",
    "    f'Available Exposure data types in CLIMADA API for {country_name}: {exposure_data_types}')\n",
    "print(\n",
    "    f'Available Hazard data types in CLIMADA API for {country_name}: {hazard_data_types}')"
   ]
  },
  {
   "cell_type": "code",
   "execution_count": null,
   "metadata": {},
   "outputs": [],
   "source": [
    "if hazard_type == 'river_flood' or 'wildfire':\n",
    "    available_scenarios = list(set([dataset_info.properties['climate_scenario']\n",
    "                               for dataset_info in dataset_infos if dataset_info.data_type.data_type == hazard_type]))\n",
    "    available_time_horizons = list(set([dataset_info.properties['year_range']\n",
    "                                   for dataset_info in dataset_infos if dataset_info.data_type.data_type == hazard_type]))\n",
    "if hazard_type == 'tropical_cyclone':\n",
    "    available_scenarios = list(set([dataset_info.properties['climate_scenario']\n",
    "                               for dataset_info in dataset_infos if dataset_info.data_type.data_type == hazard_type]))\n",
    "    available_time_horizons = list(set([dataset_info.properties.get(\n",
    "        'ref_year') for dataset_info in dataset_infos if dataset_info.data_type.data_type == hazard_type]))\n",
    "if hazard_type == 'earthquake':\n",
    "    available_scenarios = []\n",
    "    available_time_horizons = []\n",
    "if hazard_type == 'flood':\n",
    "    available_scenarios = []\n",
    "    available_time_horizons = list(set([dataset_info.properties['year_range']\n",
    "                                   for dataset_info in dataset_infos if dataset_info.data_type.data_type == hazard_type]))\n",
    "\n",
    "print(\n",
    "    f'Available climate scenarios for hazard type {hazard_type} in country {country_name}: {available_scenarios}')\n",
    "print(\n",
    "    f'Available time horizons for hazard type {hazard_type} in country {country_name}: {available_time_horizons}')"
   ]
  },
  {
   "cell_type": "code",
   "execution_count": null,
   "metadata": {},
   "outputs": [],
   "source": [
    "# Available country Hazard DatasetInfos\n",
    "hazard_dataset_infos = client.list_dataset_infos(\n",
    "    properties={\n",
    "        \"data_type\": hazard_type,\n",
    "        \"country_name\": country_name,\n",
    "        # \"climate_scenario\": climate_scenario,\n",
    "    }\n",
    ")\n",
    "hazard_dataset_infos"
   ]
  },
  {
   "cell_type": "code",
   "execution_count": null,
   "metadata": {},
   "outputs": [],
   "source": [
    "# Get Exposure and Exposure gdf\n",
    "# Available Exposures: ['litpop']\n",
    "exposure = get_exposure_new(country=country_name)\n",
    "exposure_gdf = exposure.gdf\n",
    "# exposure_gdf"
   ]
  },
  {
   "cell_type": "code",
   "execution_count": null,
   "metadata": {},
   "outputs": [],
   "source": [
    "# Get Hazard\n",
    "# Available Hazards: ['river_flood', 'tropical_cyclone', 'wildfire', 'flood', 'earthquake']\n",
    "hazard = get_hazard_new(\n",
    "    hazard_type=hazard_type,\n",
    "    scenario=climate_scenario,\n",
    "    time_horizon=time_horizon,\n",
    "    country=country_name,\n",
    ")"
   ]
  },
  {
   "cell_type": "code",
   "execution_count": null,
   "metadata": {},
   "outputs": [],
   "source": [
    "# Get Impact\n",
    "impact_function_set = calculate_impact_function_set(\n",
    "    hazard=hazard, impact_function_name=\"Flood Africa JRC Residential\"\n",
    ")\n",
    "impact = calculate_impact(exposure, hazard, impact_function_set)"
   ]
  },
  {
   "cell_type": "code",
   "execution_count": null,
   "metadata": {},
   "outputs": [],
   "source": [
    "# ENTITY_FILE_PATH = ENTITIES_DIR / \"entity_TODAY_dummy.xlsx\"\n",
    "ENTITY_FILE_PATH = ENTITIES_DIR / \"entity_template.xlsx\"\n",
    "entity = Entity.from_excel(ENTITY_FILE_PATH)\n",
    "entity.check()\n",
    "entity.impact_funcs.plot()"
   ]
  },
  {
   "cell_type": "code",
   "execution_count": null,
   "metadata": {},
   "outputs": [],
   "source": [
    "ENTITY_FILE_PATH = ENTITIES_DIR / \"entity_TODAY_dummy.xlsx\"\n",
    "entity = Entity.from_excel(ENTITY_FILE_PATH)\n",
    "entity.check()\n",
    "entity.impact_funcs.plot()"
   ]
  },
  {
   "cell_type": "code",
   "execution_count": null,
   "metadata": {},
   "outputs": [],
   "source": [
    "from climada.util.constants import ENT_TEMPLATE_XLS\n",
    "ent = Entity.from_excel(ENT_TEMPLATE_XLS)\n",
    "imp = ImpactCalc(\n",
    "    ent.exposures, \n",
    "    ent.impact_funcs,\n",
    "    hazard\n",
    ").impact()"
   ]
  },
  {
   "cell_type": "code",
   "execution_count": null,
   "metadata": {},
   "outputs": [],
   "source": [
    "# imp.plot_rp_imp((25,))\n",
    "freq_curve = imp.calc_freq_curve() # impact exceedance frequency curve\n",
    "freq_curve.plot();\n"
   ]
  },
  {
   "cell_type": "code",
   "execution_count": null,
   "metadata": {},
   "outputs": [],
   "source": [
    "ent.impact_funcs.plot()"
   ]
  },
  {
   "cell_type": "code",
   "execution_count": null,
   "metadata": {},
   "outputs": [],
   "source": [
    "haz = Hazard.from_excel(HAZARDS_DIR / \"hazard_template.xlsx\")"
   ]
  },
  {
   "cell_type": "code",
   "execution_count": null,
   "metadata": {},
   "outputs": [],
   "source": [
    "haz.plot_intensity(0)"
   ]
  },
  {
   "cell_type": "code",
   "execution_count": null,
   "metadata": {},
   "outputs": [],
   "source": [
    "dataset_infos = client.list_dataset_infos(\n",
    "    properties={\n",
    "        \"country_name\": [\"Egypt\", \"Thailand\"],\n",
    "    },\n",
    ")\n",
    "dataset_infos"
   ]
  },
  {
   "cell_type": "code",
   "execution_count": null,
   "metadata": {},
   "outputs": [],
   "source": [
    "haz = client.get_hazard(\"flood\", properties={\"country_name\": \"Thailand\"}, dump_dir=HAZARDS_DIR)\n",
    "haz"
   ]
  },
  {
   "cell_type": "code",
   "execution_count": null,
   "metadata": {},
   "outputs": [],
   "source": [
    "handlers.generate_hazard_geojson(haz, 'Thailand')"
   ]
  },
  {
   "cell_type": "code",
   "execution_count": null,
   "metadata": {},
   "outputs": [],
   "source": [
    "def sanitize_country_name(country_name):\n",
    "    try:\n",
    "        country = pycountry.countries.search_fuzzy(country_name)[0]\n",
    "        return country.name\n",
    "    except LookupError as exception:\n",
    "        logger.log(\n",
    "            \"debug\",\n",
    "            f\"Error while trying to sanitize country name. More info: {exception}\",\n",
    "        )\n",
    "        raise ValueError(f\"Failed to sanitize country name: {country_name}. More info: {exception}\")\n",
    "    \n",
    "sanitize_country_name(\"thaeriland\")"
   ]
  },
  {
   "cell_type": "code",
   "execution_count": null,
   "metadata": {},
   "outputs": [],
   "source": [
    "def get_iso3_country_code(country_name: str):\n",
    "    try:\n",
    "        country_code = pycountry.countries.search_fuzzy(country_name)[0].alpha_3\n",
    "        return country_code\n",
    "    except Exception as exception:\n",
    "        logger.log(\n",
    "            \"debug\",\n",
    "            f\"Error while trying to match hazard time horizon datasets. More info: {exception}\",\n",
    "        )\n",
    "        raise ValueError(\n",
    "            f\"Failed to retrieve ISO3 country code for country {country_name}. More info: {exception}\"\n",
    "        )\n",
    "\n",
    "\n",
    "print(get_iso3_country_code(\"thailand\"))\n",
    "print(get_iso3_country_code(\"egypt\"))"
   ]
  }
 ],
 "metadata": {
  "kernelspec": {
   "display_name": "climada_unu",
   "language": "python",
   "name": "python3"
  },
  "language_info": {
   "codemirror_mode": {
    "name": "ipython",
    "version": 3
   },
   "file_extension": ".py",
   "mimetype": "text/x-python",
   "name": "python",
   "nbconvert_exporter": "python",
   "pygments_lexer": "ipython3",
   "version": "3.9.16"
  }
 },
 "nbformat": 4,
 "nbformat_minor": 2
}
