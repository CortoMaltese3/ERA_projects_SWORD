{
 "cells": [
  {
   "cell_type": "code",
   "execution_count": null,
   "metadata": {},
   "outputs": [],
   "source": [
    "# Setup scenario\n",
    "import copy\n",
    "\n",
    "from constants import DATA_ENTITIES_DIR, DATA_HAZARDS_DIR, DATA_TEMP_DIR, REQUIREMENTS_DIR\n",
    "import geopandas as gpd\n",
    "import matplotlib.pyplot as plt\n",
    "import numpy as np\n",
    "import pandas as pd\n",
    "\n",
    "from climada.engine import CostBenefit, Impact, ImpactCalc\n",
    "from climada.engine.cost_benefit import risk_aai_agg\n",
    "from climada.entity import DiscRates, Entity, Exposures, LitPop\n",
    "from climada.entity.impact_funcs import ImpactFunc, ImpactFuncSet, ImpfTropCyclone\n",
    "from climada.entity.impact_funcs.storm_europe import ImpfStormEurope\n",
    "from climada.entity.impact_funcs.trop_cyclone import ImpfSetTropCyclone\n",
    "from climada.entity.measures import Measure, MeasureSet\n",
    "from climada.hazard import Hazard\n",
    "from climada.util.api_client import Client\n",
    "\n",
    "from costben.costben_handler import CostBenefitHandler\n",
    "from exposure.exposure_handler import ExposureHandler\n",
    "from hazard.hazard_handler import HazardHandler\n",
    "from impact.impact_handler import ImpactHandler\n",
    "\n",
    "import handlers\n",
    "from logger_config import LoggerConfig\n",
    "\n",
    "logger = LoggerConfig(logger_types=[\"file\"])\n",
    "\n",
    "costben_handler = CostBenefitHandler()\n",
    "exposure_handler = ExposureHandler()\n",
    "hazard_handler = HazardHandler()\n",
    "impact_handler = ImpactHandler()\n",
    "\n",
    "client = Client()\n"
   ]
  },
  {
   "cell_type": "code",
   "execution_count": null,
   "metadata": {},
   "outputs": [],
   "source": [
    "haz_present = client.get_hazard(\n",
    "    \"earthquake\",\n",
    "    properties = {\n",
    "        \"country_name\": \"Egypt\",\n",
    "    }\n",
    ")\n",
    "\n",
    "# haz_future = client.get_hazard(\n",
    "#     \"earthquake\",\n",
    "#     properties = {\n",
    "#         \"country_name\": \"Egypt\",\n",
    "#         \"climate_scenario\": \"rcp60\",\n",
    "#         \"year_range\": \"2030_2050\"\n",
    "#     }\n",
    "# )"
   ]
  },
  {
   "cell_type": "code",
   "execution_count": null,
   "metadata": {},
   "outputs": [],
   "source": [
    "future_year = 2040\n",
    "\n",
    "entity_present = exposure_handler.get_entity_from_xlsx(\"entity_template_simple_egy.xlsx\")\n",
    "# impf_set = entity_present.impact_funcs\n",
    "# measure_set = entity_present.measures\n",
    "# disc_rates = entity_present.disc_rates\n",
    "# exp_present = entity_present.exposures\n",
    "# exp_present.ref_year\n",
    "# exp_future = copy.deepcopy(exp_present)\n",
    "# exp_future.ref_year = future_year\n",
    "# n_years = exp_future.ref_year - exp_present.ref_year + 1\n",
    "# growth_rate = 1.02\n",
    "# growth = growth_rate ** n_years\n",
    "# exp_future.gdf['value'] = exp_future.gdf['value'] * growth\n",
    "# entity_future = Entity(exposures=exp_future, disc_rates=disc_rates,\n",
    "#                        impact_func_set=impf_set, measure_set=measure_set)\n",
    "\n",
    "# year_range = np.arange(exp_present.ref_year, exp_future.ref_year + 1)\n",
    "# annual_discount_zero = np.zeros(n_years)\n",
    "# annual_discount_stern = np.ones(n_years) * 0.014\n",
    "\n",
    "# discount_zero = DiscRates(year_range, annual_discount_zero)\n",
    "# discount_stern = DiscRates(year_range, annual_discount_stern)"
   ]
  },
  {
   "cell_type": "code",
   "execution_count": null,
   "metadata": {},
   "outputs": [],
   "source": [
    "entity_present.impact_funcs.get_func('EQ')[0].calc_mdr(0)"
   ]
  },
  {
   "cell_type": "code",
   "execution_count": null,
   "metadata": {},
   "outputs": [],
   "source": [
    "from climada.engine import CostBenefit\n",
    "from climada.engine.cost_benefit import risk_aai_agg\n",
    "\n",
    "costben_measures_only = CostBenefit()\n",
    "costben_measures_only.calc(haz_present, entity_present, haz_future=None, ent_future=None,\n",
    "                           future_year=future_year, risk_func=risk_aai_agg, imp_time_depen=None, save_imp=True)"
   ]
  },
  {
   "cell_type": "code",
   "execution_count": null,
   "metadata": {},
   "outputs": [],
   "source": [
    "combined_costben = costben_measures_only.combine_measures(['Measure A', 'Measure B'],\n",
    "                                                          'Combined measures',\n",
    "                                                          new_color=np.array([0.1, 0.8, 0.8]),\n",
    "                                                          disc_rates=discount_zero)"
   ]
  },
  {
   "cell_type": "code",
   "execution_count": null,
   "metadata": {},
   "outputs": [],
   "source": [
    "ax = costben_measures_only.plot_event_view((25, 50, 100, 250))"
   ]
  },
  {
   "cell_type": "code",
   "execution_count": null,
   "metadata": {},
   "outputs": [],
   "source": [
    "costben = CostBenefit()\n",
    "costben.calc(haz_present, entity_present, haz_future=haz_future, ent_future=entity_future,\n",
    "             future_year=future_year, risk_func=risk_aai_agg, imp_time_depen=1, save_imp=True)"
   ]
  },
  {
   "cell_type": "code",
   "execution_count": null,
   "metadata": {},
   "outputs": [],
   "source": [
    "# define this as a function because we'll use it again later\n",
    "def waterfall():\n",
    "  return costben.plot_waterfall(haz_present, entity_present, haz_future, entity_future,\n",
    "                                risk_func=risk_aai_agg)\n",
    "\n",
    "ax = waterfall()"
   ]
  }
 ],
 "metadata": {
  "kernelspec": {
   "display_name": "Python 3",
   "language": "python",
   "name": "python3"
  },
  "language_info": {
   "codemirror_mode": {
    "name": "ipython",
    "version": 3
   },
   "file_extension": ".py",
   "mimetype": "text/x-python",
   "name": "python",
   "nbconvert_exporter": "python",
   "pygments_lexer": "ipython3",
   "version": "3.9.16"
  }
 },
 "nbformat": 4,
 "nbformat_minor": 2
}
