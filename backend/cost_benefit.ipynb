{
 "cells": [
  {
   "cell_type": "code",
   "execution_count": null,
   "metadata": {},
   "outputs": [],
   "source": [
    "# Setup scenario\n",
    "import geopandas as gpd\n",
    "import numpy as np\n",
    "import pandas as pd\n",
    "\n",
    "from climada.engine import CostBenefit, Impact, ImpactCalc\n",
    "from climada.engine.cost_benefit import risk_aai_agg\n",
    "from climada.entity import DiscRates, Entity, Exposures, LitPop\n",
    "from climada.entity.impact_funcs import ImpactFunc, ImpactFuncSet, ImpfTropCyclone\n",
    "from climada.entity.impact_funcs.storm_europe import ImpfStormEurope\n",
    "from climada.entity.impact_funcs.trop_cyclone import ImpfSetTropCyclone\n",
    "from climada.entity.measures import Measure, MeasureSet\n",
    "from climada.hazard import Hazard\n",
    "from climada.util.api_client import Client\n",
    "\n",
    "import handlers\n",
    "\n",
    "from logger_config import LoggerConfig\n",
    "\n",
    "logger = LoggerConfig(logger_types=[\"file\"])\n",
    "\n",
    "\n",
    "country_name = \"Egypt\"          # Available countries: ['Egypt', 'Thailand']\n",
    "exposure_type = \"litpop\"        # Available exposure types for Egypt/Thailand: ['litpop']\n",
    "hazard_type = \"river_flood\"     # Available hazard types for Egypt/Thailand: ['river_flood', 'wildfire', 'earthquake', 'flood', 'tropical_cyclone']\n",
    "scenario = \"historical\"         # Available scenarios for Egypt/Thailand: ['rcp26', 'historical', 'rcp60', 'rcp85']\n",
    "time_horizon = \"1980_2000\"      # Available time horizons for Egypt/Thailand: ['2030_2050', '1980_2000', '2070_2090', '2010_2030', '2050_2070'] / \n",
    "annual_growth = 1.02\n",
    "\n",
    "client = Client()"
   ]
  },
  {
   "cell_type": "code",
   "execution_count": null,
   "metadata": {},
   "outputs": [],
   "source": [
    "exposure_present = handlers.get_exposure(country_name)"
   ]
  },
  {
   "cell_type": "code",
   "execution_count": null,
   "metadata": {},
   "outputs": [],
   "source": [
    "hazard_present = handlers.get_hazard(hazard_type, scenario, time_horizon, country_name)"
   ]
  },
  {
   "cell_type": "code",
   "execution_count": null,
   "metadata": {},
   "outputs": [],
   "source": [
    "impact_function_set = handlers.calculate_impact_function_set(hazard_present)\n",
    "impact_present = handlers.calculate_impact(exposure_present, hazard_present, impact_function_set)"
   ]
  },
  {
   "cell_type": "code",
   "execution_count": null,
   "metadata": {},
   "outputs": [],
   "source": [
    "adaptation_measures = {\n",
    "    \"name\": \"Measure 1\",\n",
    "    \"haz_type\": \"RF\",\n",
    "    \"cost\": 100000,\n",
    "    \"hazard_inten_imp\": (1, -1),\n",
    "}\n",
    "\n",
    "measure_list = []\n",
    "\n",
    "def get_measure(adaptation_measures: dict = None) -> Measure:\n",
    "    if adaptation_measures is None:\n",
    "        return Measure()\n",
    "    return Measure(**adaptation_measures)\n",
    "\n",
    "measure1 = get_measure(adaptation_measures)\n",
    "measure_list.append(measure1)\n",
    "\n",
    "measure_set = MeasureSet(measure_list)\n",
    "measure_set.check()"
   ]
  },
  {
   "cell_type": "code",
   "execution_count": null,
   "metadata": {},
   "outputs": [],
   "source": [
    "years=np.arange(exposure_present.ref_year, 2040)\n",
    "rates=np.ones(years.size) * 0.02\n",
    "# rates=np.zeros(years.size)\n",
    "discount_rates = DiscRates(years=years, rates=rates)\n",
    "discount_rates.check()\n",
    "# discount_rates.plot()"
   ]
  },
  {
   "cell_type": "code",
   "execution_count": null,
   "metadata": {},
   "outputs": [],
   "source": [
    "# Create Entity objects\n",
    "entity_present = Entity(\n",
    "    exposures=exposure_present,\n",
    "    disc_rates=discount_rates,\n",
    "    impact_func_set=impact_function_set,\n",
    "    measure_set=measure_set,\n",
    ")"
   ]
  },
  {
   "cell_type": "code",
   "execution_count": null,
   "metadata": {},
   "outputs": [],
   "source": [
    "# Calculate cost-benefit\n",
    "cost_benefit = CostBenefit()\n",
    "cost_benefit.calc(hazard_present, entity_present)\n",
    "cost_benefit.plot_cost_benefit()\n",
    "cost_benefit.plot_event_view((25,))"
   ]
  },
  {
   "cell_type": "code",
   "execution_count": null,
   "metadata": {},
   "outputs": [],
   "source": [
    "# define this as a function because we'll use it again later\n",
    "def waterfall():\n",
    "  return costben_measures_only.plot_waterfall(hazard_present, entity_present, hazard_future, entity_future,\n",
    "                                risk_func=risk_aai_agg)\n",
    "\n",
    "ax = waterfall()"
   ]
  },
  {
   "cell_type": "code",
   "execution_count": null,
   "metadata": {},
   "outputs": [],
   "source": [
    "costben_measures_only.plot_arrow_averted(axis = waterfall(), in_meas_names=['Measure A', 'Measure B'], accumulate=True, combine=False,\n",
    "                           risk_func=risk_aai_agg, disc_rates=None, imp_time_depen=1)"
   ]
  },
  {
   "cell_type": "code",
   "execution_count": null,
   "metadata": {},
   "outputs": [],
   "source": [
    "impact_function_set.plot()"
   ]
  },
  {
   "cell_type": "code",
   "execution_count": null,
   "metadata": {},
   "outputs": [],
   "source": [
    "entity_present = Entity().from_excel(ENTITIES_DIR / \"entity_template.xlsx\")\n",
    "entity_present.check()\n",
    "entity_present.measures.get_measure('TC')[0].name"
   ]
  }
 ],
 "metadata": {
  "kernelspec": {
   "display_name": "climada_unu",
   "language": "python",
   "name": "python3"
  },
  "language_info": {
   "codemirror_mode": {
    "name": "ipython",
    "version": 3
   },
   "file_extension": ".py",
   "mimetype": "text/x-python",
   "name": "python",
   "nbconvert_exporter": "python",
   "pygments_lexer": "ipython3",
   "version": "3.9.16"
  }
 },
 "nbformat": 4,
 "nbformat_minor": 2
}
